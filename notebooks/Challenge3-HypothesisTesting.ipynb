{
 "cells": [
  {
   "cell_type": "markdown",
   "metadata": {},
   "source": [
    "We might want to know if our sample and sub-samples are representative of diamonds in general. Moreover, we might want to reach some conclusions about the influence of certain diamonds features in their price. In that sense, we propose you to perform two statistical tests."
   ]
  },
  {
   "cell_type": "markdown",
   "metadata": {},
   "source": [
    "# Challenge 3: Hypothesis testing"
   ]
  },
  {
   "cell_type": "code",
   "execution_count": 7,
   "metadata": {},
   "outputs": [],
   "source": [
    "# imports\n",
    "import pandas as pd"
   ]
  },
  {
   "cell_type": "code",
   "execution_count": 9,
   "metadata": {},
   "outputs": [],
   "source": [
    "# the data set\n",
    "df = pd.read_csv('../data/diamonds_train.csv')"
   ]
  },
  {
   "cell_type": "markdown",
   "metadata": {},
   "source": [
    "## Test 1 - one sample vs constant hypothesis test."
   ]
  },
  {
   "cell_type": "markdown",
   "metadata": {},
   "source": [
    "We know from the available literature that diamonds average price rounds about 4000 USD. The aim is to test whether the prices in our sample are significantly different from the literature value. Give some conclusions about the implications of your test results."
   ]
  },
  {
   "cell_type": "code",
   "execution_count": 3,
   "metadata": {},
   "outputs": [],
   "source": [
    "# we import the module ttest_1samp from scipy.\n",
    "from scipy.stats import ttest_1samp"
   ]
  },
  {
   "cell_type": "code",
   "execution_count": 12,
   "metadata": {},
   "outputs": [],
   "source": [
    "# list of the diamonds prices.\n",
    "prices_list = df['price'].to_list()"
   ]
  },
  {
   "cell_type": "code",
   "execution_count": 13,
   "metadata": {},
   "outputs": [
    {
     "data": {
      "text/plain": [
       "Ttest_1sampResult(statistic=-3.604902369125729, pvalue=0.00031264532833074845)"
      ]
     },
     "execution_count": 13,
     "metadata": {},
     "output_type": "execute_result"
    }
   ],
   "source": [
    "# use ttest_1samp to make hypothesis test.\n",
    "ttest_1samp(prices_list, 4000)"
   ]
  },
  {
   "cell_type": "code",
   "execution_count": 18,
   "metadata": {},
   "outputs": [],
   "source": [
    "# CONCLUSION: As the t statistic is negative, the mean of our sample is lowest than 4.000.\n",
    "# pvalue is less than 0.05, so the difference between our sample and the constant, is significant.\n",
    "# However, is close to 0.05 so the difference is significant but not huge. "
   ]
  },
  {
   "cell_type": "code",
   "execution_count": 17,
   "metadata": {},
   "outputs": [
    {
     "data": {
      "text/plain": [
       "3928.444469163268"
      ]
     },
     "execution_count": 17,
     "metadata": {},
     "output_type": "execute_result"
    }
   ],
   "source": [
    "# we check it calculating the price mean\n",
    "df['price'].mean()"
   ]
  },
  {
   "cell_type": "markdown",
   "metadata": {},
   "source": [
    "## Test 2 - two independent samples."
   ]
  },
  {
   "cell_type": "markdown",
   "metadata": {},
   "source": [
    "Our sample includes diamonds with different features (carat, cut, color clarity, etc.). It seems clear that the carat plays an important role in price. However, it's not that clear whether the prices of some \"sub-groups\" are significantly different from each other. These are the \"sub-groups\" that you might feel suspicious about it:\n",
    "\n",
    "1. Sub-Test 1: Fair cut + color G vs. Fair cut + color I\n",
    "\n",
    "2. Sub-Test 2: Good cut + color E vs. Good cut + color F\n",
    "\n",
    "3. Sub-Test 3: Ideal cut + color D vs. Ideal cut + color E\n",
    "\n",
    "4. Sub-Test 4: Premium cut + color D vs. Premium cut + color E\n",
    "\n",
    "5. Sub-Test 5: Very Good cut + color I vs. Very Good cut + color J\n",
    "\n",
    "6. Sub-Test 6: All cuts + color D vs. All cuts + color E"
   ]
  },
  {
   "cell_type": "markdown",
   "metadata": {},
   "source": [
    "### 1. Sub-Test 1: Fair cut + color G vs. Fair cut + color I"
   ]
  },
  {
   "cell_type": "code",
   "execution_count": 19,
   "metadata": {},
   "outputs": [],
   "source": [
    "# as the samples are independant \n",
    "from scipy.stats import ttest_ind"
   ]
  },
  {
   "cell_type": "code",
   "execution_count": 34,
   "metadata": {},
   "outputs": [],
   "source": [
    "# samples\n",
    "faircut_colorg = df[(df['cut'] == 'Fair') & (df['color'] == 'G')]['price'].to_list()\n",
    "faircut_colori = df[(df['cut'] == 'Fair') & (df['color'] == 'I')]['price'].to_list()"
   ]
  },
  {
   "cell_type": "code",
   "execution_count": 35,
   "metadata": {},
   "outputs": [
    {
     "data": {
      "text/plain": [
       "Ttest_indResult(statistic=0.03552493926641288, pvalue=0.971680163699314)"
      ]
     },
     "execution_count": 35,
     "metadata": {},
     "output_type": "execute_result"
    }
   ],
   "source": [
    "# testing the hypothesis: are the price of this subgroups significant different?\n",
    "ttest_ind(faircut_colorg, faircut_colori)"
   ]
  },
  {
   "cell_type": "code",
   "execution_count": null,
   "metadata": {},
   "outputs": [],
   "source": [
    "# CONCLUSION: The t statistics tell us that faircut_colorg mean is a little but higher than faircut_colori,\n",
    "# but this difference it's not significant due tu pvalue is greater than 0.05."
   ]
  },
  {
   "cell_type": "markdown",
   "metadata": {},
   "source": [
    "### 2. Sub-Test 2: Good cut + color E vs. Good cut + color F"
   ]
  },
  {
   "cell_type": "code",
   "execution_count": 40,
   "metadata": {},
   "outputs": [],
   "source": [
    "# samples\n",
    "goodcut_colore = df[(df['cut'] == 'Good') & (df['color'] == 'E')]['price'].to_list()\n",
    "goodcut_colorf = df[(df['cut'] == 'Good') & (df['color'] == 'F')]['price'].to_list()"
   ]
  },
  {
   "cell_type": "code",
   "execution_count": 41,
   "metadata": {},
   "outputs": [
    {
     "data": {
      "text/plain": [
       "Ttest_indResult(statistic=-0.44021568469654665, pvalue=0.6598512677605672)"
      ]
     },
     "execution_count": 41,
     "metadata": {},
     "output_type": "execute_result"
    }
   ],
   "source": [
    "# testing the hypothesis: are the price of this subgroups significant different?\n",
    "ttest_ind(goodcut_colore, goodcut_colorf)"
   ]
  },
  {
   "cell_type": "code",
   "execution_count": 42,
   "metadata": {},
   "outputs": [],
   "source": [
    "# CONCLUSION: the difference between the mean price of this subgroups is not significant because pvalue is greater than 0.05. \n",
    "# However, the mean price of goodcut_colore is lower than goodcut_colorf."
   ]
  },
  {
   "cell_type": "code",
   "execution_count": 44,
   "metadata": {},
   "outputs": [
    {
     "name": "stdout",
     "output_type": "stream",
     "text": [
      "3399.88115942029\n",
      "3477.504518072289\n"
     ]
    }
   ],
   "source": [
    "# checking out results\n",
    "print(df[(df['cut'] == 'Good') & (df['color'] == 'E')]['price'].mean())\n",
    "print(df[(df['cut'] == 'Good') & (df['color'] == 'F')]['price'].mean())"
   ]
  },
  {
   "cell_type": "markdown",
   "metadata": {},
   "source": [
    "### 3. Sub-Test 3: Ideal cut + color D vs. Ideal cut + color E"
   ]
  }
 ],
 "metadata": {
  "kernelspec": {
   "display_name": "Python [conda env:ironhack_env]",
   "language": "python",
   "name": "conda-env-ironhack_env-py"
  },
  "language_info": {
   "codemirror_mode": {
    "name": "ipython",
    "version": 3
   },
   "file_extension": ".py",
   "mimetype": "text/x-python",
   "name": "python",
   "nbconvert_exporter": "python",
   "pygments_lexer": "ipython3",
   "version": "3.8.5"
  }
 },
 "nbformat": 4,
 "nbformat_minor": 4
}
